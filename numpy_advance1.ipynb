{
 "cells": [
  {
   "cell_type": "code",
   "execution_count": 4,
   "id": "ba675810-60a8-4bb3-b61b-d36bab5c55bf",
   "metadata": {},
   "outputs": [
    {
     "data": {
      "text/plain": [
       "1"
      ]
     },
     "execution_count": 4,
     "metadata": {},
     "output_type": "execute_result"
    }
   ],
   "source": [
    "import numpy as np\n",
    "a = np.zeros(5)\n",
    "a.ndim # its 1 dimantion array"
   ]
  },
  {
   "cell_type": "code",
   "execution_count": 5,
   "id": "fdc7ed90-9b71-4a10-beb6-170656c173fd",
   "metadata": {},
   "outputs": [
    {
     "data": {
      "text/plain": [
       "array([0., 0., 0., 0., 0.])"
      ]
     },
     "execution_count": 5,
     "metadata": {},
     "output_type": "execute_result"
    }
   ],
   "source": [
    "a # its a float"
   ]
  },
  {
   "cell_type": "code",
   "execution_count": 8,
   "id": "717318e1-9830-4c47-b738-f2503d15ad66",
   "metadata": {},
   "outputs": [
    {
     "data": {
      "text/plain": [
       "1"
      ]
     },
     "execution_count": 8,
     "metadata": {},
     "output_type": "execute_result"
    }
   ],
   "source": [
    "a = np.zeros(10, dtype=int) # float to int\n",
    "a\n",
    "a.ndim"
   ]
  },
  {
   "cell_type": "code",
   "execution_count": 12,
   "id": "4d4f7234-8ec7-4f5d-930f-af1b77eb0624",
   "metadata": {},
   "outputs": [
    {
     "data": {
      "text/plain": [
       "2"
      ]
     },
     "execution_count": 12,
     "metadata": {},
     "output_type": "execute_result"
    }
   ],
   "source": [
    "b = np.zeros((3,4))\n",
    "b.ndim"
   ]
  },
  {
   "cell_type": "code",
   "execution_count": 13,
   "id": "65be660b-ba48-4f5e-8f51-9f58fcc85e7f",
   "metadata": {},
   "outputs": [
    {
     "data": {
      "text/plain": [
       "array([1., 1., 1., 1., 1.])"
      ]
     },
     "execution_count": 13,
     "metadata": {},
     "output_type": "execute_result"
    }
   ],
   "source": [
    "np.ones(5) # all values are one\n"
   ]
  },
  {
   "cell_type": "code",
   "execution_count": 15,
   "id": "42a80635-0bb6-494d-8040-7a8558392c0a",
   "metadata": {},
   "outputs": [
    {
     "data": {
      "text/plain": [
       "array([[2, 2, 2],\n",
       "       [2, 2, 2]])"
      ]
     },
     "execution_count": 15,
     "metadata": {},
     "output_type": "execute_result"
    }
   ],
   "source": [
    "np.array([[2,2,2],[2,2,2]])"
   ]
  },
  {
   "cell_type": "code",
   "execution_count": 16,
   "id": "86c6b245-9815-48a5-86bb-85b9bec5a3d4",
   "metadata": {},
   "outputs": [
    {
     "data": {
      "text/plain": [
       "array([[[0., 0., 0., 0.],\n",
       "        [0., 0., 0., 0.],\n",
       "        [0., 0., 0., 0.]],\n",
       "\n",
       "       [[0., 0., 0., 0.],\n",
       "        [0., 0., 0., 0.],\n",
       "        [0., 0., 0., 0.]],\n",
       "\n",
       "       [[0., 0., 0., 0.],\n",
       "        [0., 0., 0., 0.],\n",
       "        [0., 0., 0., 0.]]])"
      ]
     },
     "execution_count": 16,
     "metadata": {},
     "output_type": "execute_result"
    }
   ],
   "source": [
    "arr = np.zeros((3,3,4))\n",
    "arr"
   ]
  },
  {
   "cell_type": "code",
   "execution_count": 17,
   "id": "57a1fbd8-6410-4d5e-8b43-6509ec294631",
   "metadata": {},
   "outputs": [
    {
     "data": {
      "text/plain": [
       "3"
      ]
     },
     "execution_count": 17,
     "metadata": {},
     "output_type": "execute_result"
    }
   ],
   "source": [
    "arr.ndim"
   ]
  },
  {
   "cell_type": "code",
   "execution_count": 21,
   "id": "6e4f99ca-240e-4592-85e2-0649bf99855d",
   "metadata": {},
   "outputs": [
    {
     "data": {
      "text/plain": [
       "array([[0., 0., 0., 0.],\n",
       "       [0., 0., 0., 0.],\n",
       "       [0., 0., 0., 0.]])"
      ]
     },
     "execution_count": 21,
     "metadata": {},
     "output_type": "execute_result"
    }
   ],
   "source": [
    "arr = np.zeros((3,4))\n",
    "arr"
   ]
  },
  {
   "cell_type": "code",
   "execution_count": 24,
   "id": "7dfe8eb6-e862-453d-b9a1-1e25e44a6f7b",
   "metadata": {},
   "outputs": [
    {
     "data": {
      "text/plain": [
       "array([[5., 5., 5., 5.],\n",
       "       [5., 5., 5., 5.],\n",
       "       [5., 5., 5., 5.]])"
      ]
     },
     "execution_count": 24,
     "metadata": {},
     "output_type": "execute_result"
    }
   ],
   "source": [
    "a = arr+5\n",
    "a"
   ]
  },
  {
   "cell_type": "code",
   "execution_count": 26,
   "id": "ca8006d9-a80a-4b43-a764-2117a522fb91",
   "metadata": {},
   "outputs": [
    {
     "data": {
      "text/plain": [
       "array([[10., 10., 10., 10.],\n",
       "       [10., 10., 10., 10.],\n",
       "       [10., 10., 10., 10.]])"
      ]
     },
     "execution_count": 26,
     "metadata": {},
     "output_type": "execute_result"
    }
   ],
   "source": [
    "b= a*2\n",
    "b"
   ]
  },
  {
   "cell_type": "code",
   "execution_count": 27,
   "id": "17e3e138-a0a2-4cec-8c2d-adf60ea2ab38",
   "metadata": {},
   "outputs": [
    {
     "data": {
      "text/plain": [
       "array([[1., 0., 0.],\n",
       "       [0., 1., 0.],\n",
       "       [0., 0., 1.]])"
      ]
     },
     "execution_count": 27,
     "metadata": {},
     "output_type": "execute_result"
    }
   ],
   "source": [
    "np.eye(3)"
   ]
  },
  {
   "cell_type": "code",
   "execution_count": 28,
   "id": "9b328af7-b037-4e17-acf0-642561facf05",
   "metadata": {},
   "outputs": [
    {
     "data": {
      "text/plain": [
       "array([[1., 0., 0., 0.],\n",
       "       [0., 1., 0., 0.],\n",
       "       [0., 0., 1., 0.],\n",
       "       [0., 0., 0., 1.]])"
      ]
     },
     "execution_count": 28,
     "metadata": {},
     "output_type": "execute_result"
    }
   ],
   "source": [
    "np.eye(4)"
   ]
  },
  {
   "cell_type": "code",
   "execution_count": 33,
   "id": "9e5a7cb3-9ce6-4148-b8ae-c0cab1a73b6a",
   "metadata": {},
   "outputs": [
    {
     "data": {
      "text/plain": [
       "array([1., 1., 1.])"
      ]
     },
     "execution_count": 33,
     "metadata": {},
     "output_type": "execute_result"
    }
   ],
   "source": [
    "np.empty(3)"
   ]
  },
  {
   "cell_type": "code",
   "execution_count": 35,
   "id": "b51dd72c-077a-4b69-83c4-2e2d86bec1d8",
   "metadata": {},
   "outputs": [
    {
     "data": {
      "text/plain": [
       "3"
      ]
     },
     "execution_count": 35,
     "metadata": {},
     "output_type": "execute_result"
    }
   ],
   "source": [
    "import random\n",
    "random.choice((1,2,3,4))\n"
   ]
  },
  {
   "cell_type": "code",
   "execution_count": 36,
   "id": "2e6db4bc-2f71-45ac-bb56-f59075394bf0",
   "metadata": {},
   "outputs": [
    {
     "data": {
      "text/plain": [
       "'n'"
      ]
     },
     "execution_count": 36,
     "metadata": {},
     "output_type": "execute_result"
    }
   ],
   "source": [
    "random.choice(\"Sneha\")"
   ]
  },
  {
   "cell_type": "code",
   "execution_count": 37,
   "id": "8a8c858e-dc20-4295-aa7c-ff941f4cdba6",
   "metadata": {},
   "outputs": [
    {
     "data": {
      "text/plain": [
       "6"
      ]
     },
     "execution_count": 37,
     "metadata": {},
     "output_type": "execute_result"
    }
   ],
   "source": [
    "random.randrange(1, 10)\n"
   ]
  },
  {
   "cell_type": "code",
   "execution_count": 38,
   "id": "3ab6f7d8-0aa3-4283-8b22-a030c9eee93e",
   "metadata": {},
   "outputs": [
    {
     "data": {
      "text/plain": [
       "0.17075139281955964"
      ]
     },
     "execution_count": 38,
     "metadata": {},
     "output_type": "execute_result"
    }
   ],
   "source": [
    "random.random()"
   ]
  },
  {
   "cell_type": "code",
   "execution_count": 39,
   "id": "f260c3a5-0088-49ef-bb32-bc1ba7a66705",
   "metadata": {},
   "outputs": [
    {
     "data": {
      "text/plain": [
       "[1, 2, 3, 4, 5]"
      ]
     },
     "execution_count": 39,
     "metadata": {},
     "output_type": "execute_result"
    }
   ],
   "source": [
    "lis = [1,2,3,4,5]\n",
    "lis"
   ]
  },
  {
   "cell_type": "code",
   "execution_count": 44,
   "id": "ff4fe9fb-4105-4727-8f55-a8b11384fdfa",
   "metadata": {},
   "outputs": [
    {
     "data": {
      "text/plain": [
       "[4, 3, 1, 2, 5]"
      ]
     },
     "execution_count": 44,
     "metadata": {},
     "output_type": "execute_result"
    }
   ],
   "source": [
    "random.shuffle(lis)\n",
    "lis"
   ]
  },
  {
   "cell_type": "code",
   "execution_count": null,
   "id": "45d64877-532d-4e7e-9978-5e7c9c111dd4",
   "metadata": {},
   "outputs": [],
   "source": [
    "# random number concept in numpy\n"
   ]
  },
  {
   "cell_type": "code",
   "execution_count": 45,
   "id": "7e1a8f72-ed59-4432-9775-b7f1616ab15e",
   "metadata": {},
   "outputs": [
    {
     "data": {
      "text/plain": [
       "array([], dtype=float64)"
      ]
     },
     "execution_count": 45,
     "metadata": {},
     "output_type": "execute_result"
    }
   ],
   "source": [
    "np.array([])"
   ]
  },
  {
   "cell_type": "code",
   "execution_count": 46,
   "id": "f1b72b41-48ae-46fa-9623-89b1449c701c",
   "metadata": {},
   "outputs": [
    {
     "data": {
      "text/plain": [
       "0.36159400894140903"
      ]
     },
     "execution_count": 46,
     "metadata": {},
     "output_type": "execute_result"
    }
   ],
   "source": [
    "np.random.random_sample()"
   ]
  },
  {
   "cell_type": "code",
   "execution_count": 48,
   "id": "b2477b1a-dc67-4c0b-b09b-f4cf7639c6e3",
   "metadata": {},
   "outputs": [
    {
     "data": {
      "text/plain": [
       "array([0.70949956, 0.4504167 , 0.85604852, 0.39645826, 0.34424947])"
      ]
     },
     "execution_count": 48,
     "metadata": {},
     "output_type": "execute_result"
    }
   ],
   "source": [
    " np.random.random_sample((5,)) # 1 dim array of random numbers"
   ]
  },
  {
   "cell_type": "code",
   "execution_count": 49,
   "id": "4164ce2e-1445-44db-b1fc-bb23709dc2b7",
   "metadata": {},
   "outputs": [
    {
     "data": {
      "text/plain": [
       "array([0.78785645])"
      ]
     },
     "execution_count": 49,
     "metadata": {},
     "output_type": "execute_result"
    }
   ],
   "source": [
    "np.random.rand(1)"
   ]
  },
  {
   "cell_type": "code",
   "execution_count": 50,
   "id": "af82b64b-b0bc-4d23-963a-a5af7ae0d6b0",
   "metadata": {},
   "outputs": [
    {
     "data": {
      "text/plain": [
       "array([[0.00691618, 0.93711095, 0.68412585],\n",
       "       [0.19770034, 0.00328338, 0.00583484]])"
      ]
     },
     "execution_count": 50,
     "metadata": {},
     "output_type": "execute_result"
    }
   ],
   "source": [
    "np.random.rand(2,3)"
   ]
  },
  {
   "cell_type": "code",
   "execution_count": 51,
   "id": "fa08b74d-e704-4766-86eb-691b79eece05",
   "metadata": {},
   "outputs": [
    {
     "data": {
      "text/plain": [
       "array([[-0.54976208,  0.69226544, -0.63581467],\n",
       "       [ 1.41688324,  0.58512501,  1.15207335]])"
      ]
     },
     "execution_count": 51,
     "metadata": {},
     "output_type": "execute_result"
    }
   ],
   "source": [
    "np.random.randn(2,3)"
   ]
  },
  {
   "cell_type": "code",
   "execution_count": 4,
   "id": "49a30cde-fe53-4bb5-8f88-025bdd564f38",
   "metadata": {},
   "outputs": [
    {
     "data": {
      "text/plain": [
       "(3, 4)"
      ]
     },
     "execution_count": 4,
     "metadata": {},
     "output_type": "execute_result"
    }
   ],
   "source": [
    "import numpy as np\n",
    "arr = np.random.randint(1,5, size = (3,4))\n",
    "# arr.shape"
   ]
  },
  {
   "cell_type": "code",
   "execution_count": 5,
   "id": "e65a4721-f147-41b8-aab3-2d0f339cd5b9",
   "metadata": {},
   "outputs": [
    {
     "data": {
      "text/plain": [
       "array([[4, 1, 1, 1, 1, 3],\n",
       "       [4, 3, 2, 2, 3, 2]])"
      ]
     },
     "execution_count": 5,
     "metadata": {},
     "output_type": "execute_result"
    }
   ],
   "source": [
    "arr.reshape(2,6)"
   ]
  },
  {
   "cell_type": "code",
   "execution_count": 7,
   "id": "8d69f0ba-3d82-43f8-abbf-12d2582aee08",
   "metadata": {},
   "outputs": [
    {
     "data": {
      "text/plain": [
       "array([[6, 4, 7, 3, 2, 5],\n",
       "       [1, 2, 1, 6, 8, 1],\n",
       "       [7, 3, 3, 1, 7, 7],\n",
       "       [3, 7, 5, 5, 8, 5],\n",
       "       [7, 7, 2, 6, 8, 6]])"
      ]
     },
     "execution_count": 7,
     "metadata": {},
     "output_type": "execute_result"
    }
   ],
   "source": [
    "arr1 = np.random.randint(1,10,(5,6))\n",
    "arr1"
   ]
  },
  {
   "cell_type": "code",
   "execution_count": null,
   "id": "a7a46d70-ce64-416d-ad89-b4212052b052",
   "metadata": {},
   "outputs": [],
   "source": [
    "# to access elements in array"
   ]
  },
  {
   "cell_type": "code",
   "execution_count": 9,
   "id": "b1200dfc-1c91-4a0d-b21f-c94fa3d49919",
   "metadata": {},
   "outputs": [
    {
     "data": {
      "text/plain": [
       "array([1, 2, 1, 6, 8, 1])"
      ]
     },
     "execution_count": 9,
     "metadata": {},
     "output_type": "execute_result"
    }
   ],
   "source": [
    "arr1[1]"
   ]
  },
  {
   "cell_type": "code",
   "execution_count": 10,
   "id": "16ca47c9-009d-4b78-9b78-3b32534cb21f",
   "metadata": {},
   "outputs": [
    {
     "data": {
      "text/plain": [
       "np.int64(7)"
      ]
     },
     "execution_count": 10,
     "metadata": {},
     "output_type": "execute_result"
    }
   ],
   "source": [
    "arr1[3][1]"
   ]
  },
  {
   "cell_type": "code",
   "execution_count": null,
   "id": "ff24c6fb-90c5-4c9e-856d-7cacec70f1fa",
   "metadata": {},
   "outputs": [],
   "source": [
    "# from 0th row and second row"
   ]
  },
  {
   "cell_type": "code",
   "execution_count": 15,
   "id": "381c4abe-88ff-483f-9b6e-4f800294f37f",
   "metadata": {},
   "outputs": [
    {
     "data": {
      "text/plain": [
       "array([[6, 7],\n",
       "       [1, 1],\n",
       "       [7, 3]])"
      ]
     },
     "execution_count": 15,
     "metadata": {},
     "output_type": "execute_result"
    }
   ],
   "source": [
    "arr1[0:3,[0,2]]"
   ]
  },
  {
   "cell_type": "code",
   "execution_count": 16,
   "id": "29c29b18-711d-407b-a9e7-3d9279a6db29",
   "metadata": {},
   "outputs": [
    {
     "data": {
      "text/plain": [
       "array([[6, 4, 7, 3, 2, 5],\n",
       "       [1, 2, 1, 6, 8, 1],\n",
       "       [7, 3, 3, 1, 7, 7],\n",
       "       [3, 7, 5, 5, 8, 5],\n",
       "       [7, 7, 2, 6, 8, 6]])"
      ]
     },
     "execution_count": 16,
     "metadata": {},
     "output_type": "execute_result"
    }
   ],
   "source": [
    "# slicing on both rows and columns togather\n",
    "arr1"
   ]
  },
  {
   "cell_type": "code",
   "execution_count": 20,
   "id": "d3daf09d-6493-44be-aae9-4490febfb3d6",
   "metadata": {},
   "outputs": [
    {
     "data": {
      "text/plain": [
       "array([[4, 7],\n",
       "       [2, 1],\n",
       "       [3, 3]])"
      ]
     },
     "execution_count": 20,
     "metadata": {},
     "output_type": "execute_result"
    }
   ],
   "source": [
    "arr1[0:3, 1:3]"
   ]
  },
  {
   "cell_type": "code",
   "execution_count": 21,
   "id": "b842ce2b-f9ff-4650-8750-928f3484338e",
   "metadata": {},
   "outputs": [
    {
     "data": {
      "text/plain": [
       "array([[4, 1],\n",
       "       [1, 3],\n",
       "       [2, 2]])"
      ]
     },
     "execution_count": 21,
     "metadata": {},
     "output_type": "execute_result"
    }
   ],
   "source": [
    "arr[0:3, [0,1]]"
   ]
  },
  {
   "cell_type": "code",
   "execution_count": 23,
   "id": "7e98d215-9fda-44c3-b64c-cc40c7be8b98",
   "metadata": {},
   "outputs": [
    {
     "data": {
      "text/plain": [
       "array([4, 3])"
      ]
     },
     "execution_count": 23,
     "metadata": {},
     "output_type": "execute_result"
    }
   ],
   "source": [
    "arr1[0,[1,3]]"
   ]
  },
  {
   "cell_type": "code",
   "execution_count": null,
   "id": "2ddaeb20-e6e3-4359-9bff-7ffbc1156dc8",
   "metadata": {},
   "outputs": [],
   "source": [
    "arr1[2:4, [0,3]] # 2nd and 3rd row and also 0 and 3rd column"
   ]
  },
  {
   "cell_type": "code",
   "execution_count": 24,
   "id": "65f68cba-eeff-40fe-ba62-10fd142b0955",
   "metadata": {},
   "outputs": [
    {
     "data": {
      "text/plain": [
       "array([[7, 3, 3, 1, 7, 7],\n",
       "       [3, 7, 5, 5, 8, 5],\n",
       "       [7, 7, 2, 6, 8, 6]])"
      ]
     },
     "execution_count": 24,
     "metadata": {},
     "output_type": "execute_result"
    }
   ],
   "source": [
    "arr1[2:5]"
   ]
  },
  {
   "cell_type": "code",
   "execution_count": 27,
   "id": "31a5984c-1a1a-4cc1-b6c8-03899b4360c8",
   "metadata": {},
   "outputs": [
    {
     "data": {
      "text/plain": [
       "array([[7, 3],\n",
       "       [3, 7],\n",
       "       [7, 7]])"
      ]
     },
     "execution_count": 27,
     "metadata": {},
     "output_type": "execute_result"
    }
   ],
   "source": [
    "arr1[2:5, 0:2]"
   ]
  },
  {
   "cell_type": "code",
   "execution_count": null,
   "id": "3660720e-2f27-48ea-b6de-051bd2553736",
   "metadata": {},
   "outputs": [],
   "source": [
    "# Mathematical operation on two arrays"
   ]
  },
  {
   "cell_type": "code",
   "execution_count": 32,
   "id": "064d86c8-9a4b-46bc-aff3-0f02a668d852",
   "metadata": {},
   "outputs": [],
   "source": [
    "arr1 = np.random.randint(1,3,(3,3))\n",
    "arr2 = np.random.randint(1,3,(3,3))"
   ]
  },
  {
   "cell_type": "code",
   "execution_count": 43,
   "id": "7d2bcc5e-0d69-426c-aea8-f39f4c7a7171",
   "metadata": {},
   "outputs": [
    {
     "data": {
      "text/plain": [
       "array([[1, 1, 1],\n",
       "       [1, 1, 1],\n",
       "       [1, 1, 1]])"
      ]
     },
     "execution_count": 43,
     "metadata": {},
     "output_type": "execute_result"
    }
   ],
   "source": [
    "arr1"
   ]
  },
  {
   "cell_type": "code",
   "execution_count": 44,
   "id": "3c9b3290-2d4d-4abc-b5c1-983e701e48ca",
   "metadata": {},
   "outputs": [
    {
     "data": {
      "text/plain": [
       "array([[1, 1, 1],\n",
       "       [1, 1, 1],\n",
       "       [1, 1, 1]])"
      ]
     },
     "execution_count": 44,
     "metadata": {},
     "output_type": "execute_result"
    }
   ],
   "source": [
    "arr2"
   ]
  },
  {
   "cell_type": "code",
   "execution_count": 45,
   "id": "4a400db6-4821-4163-b18f-bd805cf1964b",
   "metadata": {},
   "outputs": [
    {
     "data": {
      "text/plain": [
       "array([[2, 2, 2],\n",
       "       [2, 2, 2],\n",
       "       [2, 2, 2]])"
      ]
     },
     "execution_count": 45,
     "metadata": {},
     "output_type": "execute_result"
    }
   ],
   "source": [
    "arr1+arr2 # indexwise element"
   ]
  },
  {
   "cell_type": "code",
   "execution_count": 46,
   "id": "55c4b4c1-d1aa-4462-aed6-18c80938b585",
   "metadata": {},
   "outputs": [
    {
     "data": {
      "text/plain": [
       "(array([[1, 1, 1],\n",
       "        [1, 1, 1],\n",
       "        [1, 1, 1]]),\n",
       " array([[1, 1, 1],\n",
       "        [1, 1, 1],\n",
       "        [1, 1, 1]]))"
      ]
     },
     "execution_count": 46,
     "metadata": {},
     "output_type": "execute_result"
    }
   ],
   "source": [
    "arr1, arr2"
   ]
  },
  {
   "cell_type": "code",
   "execution_count": 47,
   "id": "4993ab72-92e1-47a4-b42b-5f91a934ad41",
   "metadata": {},
   "outputs": [
    {
     "data": {
      "text/plain": [
       "array([[1., 1., 1.],\n",
       "       [1., 1., 1.],\n",
       "       [1., 1., 1.]])"
      ]
     },
     "execution_count": 47,
     "metadata": {},
     "output_type": "execute_result"
    }
   ],
   "source": [
    "arr1/arr2"
   ]
  },
  {
   "cell_type": "code",
   "execution_count": null,
   "id": "a6cd34d4-2609-4ca9-bedf-e3f38e0e4385",
   "metadata": {},
   "outputs": [],
   "source": [
    "# matrix multiplication >> matrix is a specialised to 2-d array\n",
    "#  matrix multiplication  is different from indexwise multiplication"
   ]
  },
  {
   "cell_type": "code",
   "execution_count": 48,
   "id": "10acf059-a198-4ae5-9d9e-794e00d231dd",
   "metadata": {},
   "outputs": [
    {
     "data": {
      "text/plain": [
       "array([[3, 3, 3],\n",
       "       [3, 3, 3],\n",
       "       [3, 3, 3]])"
      ]
     },
     "execution_count": 48,
     "metadata": {},
     "output_type": "execute_result"
    }
   ],
   "source": [
    "arr1 @ arr2"
   ]
  },
  {
   "cell_type": "code",
   "execution_count": 49,
   "id": "f3e3d326-a9da-46a4-a975-75f3f812ddb6",
   "metadata": {},
   "outputs": [
    {
     "data": {
      "text/plain": [
       "array([[3, 3, 3],\n",
       "       [3, 3, 3],\n",
       "       [3, 3, 3]])"
      ]
     },
     "execution_count": 49,
     "metadata": {},
     "output_type": "execute_result"
    }
   ],
   "source": [
    "np.dot(arr1, arr2)"
   ]
  }
 ],
 "metadata": {
  "kernelspec": {
   "display_name": "Python 3 (ipykernel)",
   "language": "python",
   "name": "python3"
  },
  "language_info": {
   "codemirror_mode": {
    "name": "ipython",
    "version": 3
   },
   "file_extension": ".py",
   "mimetype": "text/x-python",
   "name": "python",
   "nbconvert_exporter": "python",
   "pygments_lexer": "ipython3",
   "version": "3.13.1"
  }
 },
 "nbformat": 4,
 "nbformat_minor": 5
}
